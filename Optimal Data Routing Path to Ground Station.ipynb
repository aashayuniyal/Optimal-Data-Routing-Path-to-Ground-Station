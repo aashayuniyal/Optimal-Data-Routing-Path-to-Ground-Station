{
 "cells": [
  {
   "cell_type": "markdown",
   "metadata": {
    "id": "xX5gXL5S7mcb"
   },
   "source": [
    "# **FRONT MATTER: Optimal Data Routing Path to Ground Station**\n",
    "\n",
    "\n"
   ]
  },
  {
   "cell_type": "markdown",
   "metadata": {},
   "source": [
    "# **INTRODUCTION**\n",
    "Routing optimization in aeronautical networks refers to the process of finding the most efficient path for aircraft to travel between two points. This involves considering factors such as fuel consumption, flight time, and weather conditions, as well as constraints such as airspace restrictions and flight schedules. The goal of routing optimization is to reduce costs and improve safety and efficiency for aircraft operators and air traffic controllers. Some common techniques used for routing optimization include mathematical programming and heuristic algorithms.\n",
    "There are several techniques that can be used for optimization in aeronautical networks, including:\n",
    "\n",
    "Mathematical Programming: This involves using mathematical models to find the optimal solution to a problem. Common methods include linear programming, mixed-integer programming, and nonlinear programming.\n",
    "\n",
    "Heuristic Algorithms: These are methods that use trial and error to find approximate solutions to problems. Heuristic algorithms include genetic algorithms, simulated annealing, and ant colony optimization.\n",
    "\n",
    "Artificial Intelligence (AI) and Machine Learning (ML) : AI and ML algorithms can be used to identify patterns in data and make predictions. They can be used to optimize routing by analyzing historical flight data and making predictions about future flight patterns.\n",
    "\n",
    "Constraint Programming: This is a method of solving optimization problems by expressing the problem as a set of constraints on the variables. It can be used to find solutions that satisfy a set of constraints while minimizing or maximizing a given objective function.\n",
    "\n",
    "Hybrid Methods: A combination of multiple optimization technique can also be used to achieve the optimal solution.\n",
    "\n",
    "Each technique has its own advantages and disadvantages, and the choice of method will depend on the specific problem and constraints of the aeronautical network.\n",
    "\n",
    "In this particular problem we will be using Bellman-Ford Algorithm"
   ]
  },
  {
   "cell_type": "markdown",
   "metadata": {
    "id": "XH9THwzS4UHI"
   },
   "source": [
    "# **Problem Definition**\n",
    "\n",
    "This assignment deals with a real-world problem of routing optimisation for aeronautical networks. There are thousands of airplanes flying over the North-Atlantic every day. In order to provide Internet access to passengers onboard, each airplane needs to find an optimal data packet routing path to a ground station in terms of one or two and more objectives to be optimized.\n",
    "\n",
    "These objectives are:\n",
    "\n",
    "1. Finding the routing paths having maximum end-to-end transmission rates to reach the nearby ground stations.\n",
    "\n",
    "2. Finding the routing paths having minimum end-to-end latency rates and maximum end-to-end transmission rates."
   ]
  },
  {
   "cell_type": "markdown",
   "metadata": {
    "id": "z35dylwHQk6g"
   },
   "source": [
    "# **Importing all the required libraries**\n",
    "\n",
    "Numpy - NumPy is a Python library that is used for working with large, multi-dimensional arrays and matrices of numerical data. It provides a high-performance multidimensional array object, and tools for working with these arrays.\n",
    "\n",
    "Pandas - Pandas is a Python library that provides tools for working with data in a fast, flexible, and expressive manner. It is designed to make it easy to work with data, whether it is structured or unstructured.\n",
    "\n",
    "Matplotlib - Matplotlib is a Python library that  allows you to create a wide variety of static, animated, and interactive visualizations, including line plots, scatter plots, bar plots, error bars, histograms, bar charts, pie charts, box plots, and many others.\n",
    "\n",
    "Re - The re module is a Python library that provides support for regular expressions. Regular expressions are a powerful tool for matching and manipulating strings, and are widely used in text processing and data analysis.\n",
    "\n",
    "Math - The math module is a built-in Python library that provides math-related functions. It includes functions for basic mathematical operations, such as addition, subtraction, multiplication, and division, as well as functions for more advanced mathematical operations, such as trigonometry, logarithms, and statistical functions.\n",
    "\n",
    "Seaborn - Seaborn is a Python library for creating statistical visualizations. It is built on top of Matplotlib and provides a high-level interface for drawing attractive and informative statistical graphics.\n",
    "Seaborn is particularly useful for exploring relationships between multiple variables, and provides functions for visualizing univariate and bivariate distributions, linear relationships, and comparison of multiple groups. It also has functions for visualizing categorical data, including bar plots and box plots."
   ]
  },
  {
   "cell_type": "code",
   "execution_count": 1,
   "metadata": {},
   "outputs": [],
   "source": [
    "import numpy as np\n",
    "import pandas as pd\n",
    "import matplotlib.pyplot as plt\n",
    "import re\n",
    "from math import radians\n",
    "import math\n",
    "import seaborn as sns"
   ]
  },
  {
   "cell_type": "markdown",
   "metadata": {},
   "source": [
    "# Loading the dataset"
   ]
  },
  {
   "cell_type": "code",
   "execution_count": 2,
   "metadata": {
    "id": "nMpagkOWQ1mO"
   },
   "outputs": [],
   "source": [
    "df = pd.read_csv('D:/Submission/aashay/NA_13_Jun_29_2018_UTC13.CSV')"
   ]
  },
  {
   "cell_type": "code",
   "execution_count": 3,
   "metadata": {
    "colab": {
     "base_uri": "https://localhost:8080/"
    },
    "id": "UztAnEiSlmSa",
    "outputId": "04c5ca8e-e490-47e9-f5be-0734e9e3dd4d"
   },
   "outputs": [
    {
     "name": "stdout",
     "output_type": "stream",
     "text": [
      "  Flight No.   Timestamp  Altitude  Latitude  Longitude\n",
      "0      AA101  1530277200   39000.0      50.9      -38.7\n",
      "1      AA109  1530277200   33000.0      60.3      -12.2\n",
      "2      AA111  1530277200   39000.0      52.7      -18.1\n",
      "3      AA113  1530277200   37000.0      43.0      -11.1\n",
      "4      AA151  1530277200   36400.0      47.0      -27.7\n"
     ]
    }
   ],
   "source": [
    "print(df.head())"
   ]
  },
  {
   "cell_type": "code",
   "execution_count": 4,
   "metadata": {
    "colab": {
     "base_uri": "https://localhost:8080/"
    },
    "id": "1WON0JlfKxFk",
    "outputId": "4a61efdb-25fd-4374-f240-c949650b424e"
   },
   "outputs": [
    {
     "name": "stdout",
     "output_type": "stream",
     "text": [
      "<class 'pandas.core.frame.DataFrame'>\n",
      "RangeIndex: 216 entries, 0 to 215\n",
      "Data columns (total 5 columns):\n",
      " #   Column      Non-Null Count  Dtype  \n",
      "---  ------      --------------  -----  \n",
      " 0   Flight No.  216 non-null    object \n",
      " 1   Timestamp   216 non-null    int64  \n",
      " 2   Altitude    216 non-null    float64\n",
      " 3   Latitude    216 non-null    float64\n",
      " 4   Longitude   216 non-null    float64\n",
      "dtypes: float64(3), int64(1), object(1)\n",
      "memory usage: 8.6+ KB\n",
      "None\n"
     ]
    }
   ],
   "source": [
    "print(df.info())"
   ]
  },
  {
   "cell_type": "markdown",
   "metadata": {},
   "source": [
    "#### Renaming the column names to work conveniently"
   ]
  },
  {
   "cell_type": "code",
   "execution_count": 5,
   "metadata": {
    "id": "_yWLyCYZkzSg"
   },
   "outputs": [],
   "source": [
    "df.rename(columns = {'Flight No.': 'flight_no', 'Timestamp': 'timestamp', \\\n",
    "                     'Latitude': 'latitude', 'Longitude': 'longitude', \\\n",
    "                     'Altitude': 'altitude'}, inplace = True)\n",
    "df = df.drop(columns = {'timestamp'})"
   ]
  },
  {
   "cell_type": "markdown",
   "metadata": {},
   "source": [
    "#### Converting ground stations into dataset"
   ]
  },
  {
   "cell_type": "code",
   "execution_count": 6,
   "metadata": {
    "colab": {
     "base_uri": "https://localhost:8080/"
    },
    "id": "CC5K_2W2GGbC",
    "outputId": "5ac8a5a4-a6a2-4ab9-fc0e-f340502ede78"
   },
   "outputs": [
    {
     "name": "stdout",
     "output_type": "stream",
     "text": [
      "  flight_no  altitude  latitude  longitude\n",
      "0       LHR     81.73   51.4700     0.4543\n",
      "1       EWR      8.72   40.6895    74.1745\n"
     ]
    }
   ],
   "source": [
    "gs = pd.DataFrame({'flight_no': ['LHR', 'EWR'], 'altitude': [81.73, 8.72], 'latitude': [51.4700, 40.6895], \\\n",
    "                   'longitude': [0.4543, 74.1745]})\n",
    "print(gs)"
   ]
  },
  {
   "cell_type": "markdown",
   "metadata": {},
   "source": [
    "### Concatenate ground states to the dataframe\n",
    "In Python, the concat() method is used to concatenate two or more strings. It is a method of the str class."
   ]
  },
  {
   "cell_type": "code",
   "execution_count": 7,
   "metadata": {
    "colab": {
     "base_uri": "https://localhost:8080/"
    },
    "id": "1n2H89NLwPzI",
    "outputId": "7d93c853-4725-4b0d-bec4-46a93174d935"
   },
   "outputs": [
    {
     "name": "stdout",
     "output_type": "stream",
     "text": [
      "  flight_no  altitude  latitude  longitude\n",
      "0     AA101   39000.0      50.9      -38.7\n",
      "1     AA109   33000.0      60.3      -12.2\n",
      "..\n",
      "  flight_no  altitude  latitude  longitude\n",
      "0       LHR     81.73   51.4700     0.4543\n",
      "1       EWR      8.72   40.6895    74.1745\n"
     ]
    }
   ],
   "source": [
    "df_temp = pd.concat((df, gs), axis = 0)\n",
    "print(df_temp.head(2))\n",
    "print('..')\n",
    "print(df_temp.tail(2))"
   ]
  },
  {
   "cell_type": "markdown",
   "metadata": {
    "id": "N76FIlg9NfXr"
   },
   "source": [
    "# **METHODOLOGY**"
   ]
  },
  {
   "cell_type": "code",
   "execution_count": 8,
   "metadata": {
    "id": "hXDWEJXfohXq"
   },
   "outputs": [],
   "source": [
    "def cartesian_coordinates(df):\n",
    "    \"\"\"\n",
    "    convert latitutes, longitudes, and altitudes into cartesian coordinates.\n",
    "    \"\"\"\n",
    "    distances = []\n",
    "    for index, row in df.iterrows():\n",
    "        Theta_a = row['latitude_x']\n",
    "        Theta_b = row['latitude_y']\n",
    "        Varphi_a = row['longitude_x']\n",
    "        Varphi_b = row['longitude_y']\n",
    "\n",
    "        # to convert altitude's feet into meter\n",
    "        L_a = row['altitude_x'] * 0.3048\n",
    "        L_b = row['altitude_y'] * 0.3048\n",
    "\n",
    "        R_E = 6371000   # The radius of earth\n",
    "\n",
    "        # The below code is to convert (altitude, latitude, longitude) to 3D Cartesian coordinates\n",
    "        p_xa = (R_E + L_a) * math.cos(math.radians(Theta_a)) * math.cos(math.radians(Varphi_a))  # Eq. (15)\n",
    "        p_ya = (R_E + L_a) * math.cos(math.radians(Theta_a)) * math.sin(math.radians(Varphi_a))  # Eq. (16)\n",
    "        p_za = (R_E + L_a) * math.sin(math.radians(Theta_a))  \n",
    "\n",
    "        p_xb = (R_E + L_b) * math.cos(math.radians(Theta_b)) * math.cos(math.radians(Varphi_b))  # Eq. (15)\n",
    "        p_yb = (R_E + L_b) * math.cos(math.radians(Theta_b)) * math.sin(math.radians(Varphi_b))  # Eq. (16)\n",
    "        p_zb = (R_E + L_b) * math.sin(math.radians(Theta_b))\n",
    "\n",
    "        # calculate the distance between aircraft a and aircraft b\n",
    "        d_ab_in_m = math.sqrt((abs(p_xa - p_xb)) ** 2 + (abs(p_ya - p_yb)) ** 2 + (abs(p_za - p_zb)) ** 2)\n",
    "        d_ab_in_km = d_ab_in_m / 1000\n",
    "\n",
    "        distances.append(d_ab_in_km)\n",
    "    return distances"
   ]
  },
  {
   "cell_type": "code",
   "execution_count": 9,
   "metadata": {
    "id": "p25t9UXnIvdi"
   },
   "outputs": [],
   "source": [
    "def transmissionRates(df):\n",
    "    \"\"\"\n",
    "    Get the transmission rates according to corresponding distances.\n",
    "    \"\"\"\n",
    "    df = df.copy()\n",
    "    TransmissionRates = []\n",
    "    for _, each_row in df.iterrows():\n",
    "        if each_row['distances'] >= 500 and each_row['distances'] < 600:\n",
    "            TransmissionRates.append(31.895)\n",
    "        elif each_row['distances'] >= 400 and each_row['distances'] < 500:\n",
    "            TransmissionRates.append(43.505)\n",
    "        elif each_row['distances'] >= 300 and each_row['distances'] < 400:\n",
    "            TransmissionRates.append(52.857)\n",
    "        elif each_row['distances'] >= 190 and each_row['distances'] < 300:\n",
    "            TransmissionRates.append(63.970)\n",
    "        elif each_row['distances'] >= 90 and each_row['distances'] < 190:\n",
    "            TransmissionRates.append(77.071)\n",
    "        elif each_row['distances'] >= 35 and each_row['distances'] < 90:\n",
    "            TransmissionRates.append(93.854)\n",
    "        elif each_row['distances'] >= 5.56 and each_row['distances'] < 35:\n",
    "            TransmissionRates.append(119.130)\n",
    "        else:\n",
    "            TransmissionRates.append(0)\n",
    "    df = pd.concat((df, pd.DataFrame(TransmissionRates).rename(columns = {0: 'transmission_rates'})), axis = 1)\n",
    "\n",
    "    return df"
   ]
  },
  {
   "cell_type": "code",
   "execution_count": 10,
   "metadata": {
    "id": "lmvzYH9iUy4A"
   },
   "outputs": [],
   "source": [
    "def cartesian_join(df):\n",
    "    \"\"\"\n",
    "    Cartesian join on same dataframe on order to get the pairs of aeroplanes\n",
    "    \"\"\"\n",
    "    df = df.copy()\n",
    "    df1 = df2 = df.copy()\n",
    "\n",
    "    df1['join'] = 0\n",
    "    df2['join'] = 0\n",
    "\n",
    "    df = df1.merge(df2, how = 'outer', on='join')\n",
    "    df = df.drop(columns=['join'])\n",
    "\n",
    "    return df"
   ]
  },
  {
   "cell_type": "code",
   "execution_count": 11,
   "metadata": {
    "id": "e2nS1lDJsWvh"
   },
   "outputs": [],
   "source": [
    "def remove_unwanted_data(df):\n",
    "    \"\"\"\n",
    "    Remove unwanted data, that is, all the records having distance more than\n",
    "    and equal to 600.\n",
    "    \"\"\"\n",
    "    df = df.copy()\n",
    "    distance = cartesian_coordinates(df)\n",
    "    df = pd.concat((df, pd.DataFrame(distance).rename(columns = {0: 'distances'})), axis = 1)\n",
    "    df = df[df['distances'] < 600]\n",
    "    df.reset_index(drop=True, inplace=True)\n",
    "    return df"
   ]
  },
  {
   "cell_type": "code",
   "execution_count": 12,
   "metadata": {
    "id": "8o0XVKiyJNyk"
   },
   "outputs": [],
   "source": [
    "def distancesAndTransmissionRates(df):\n",
    "    \"\"\"\n",
    "    Store distance between two aeroplanes and transmission rates for each pair of aeroplanes\n",
    "    \"\"\"\n",
    "    # creating copy if in case the operation fails, it won't effect the original dataframe\n",
    "    df = df.copy()\n",
    "    df = cartesian_join(df)\n",
    "    df = remove_unwanted_data(df)\n",
    "    df = transmissionRates(df)\n",
    "\n",
    "    # select only the relevant columns. Distances containes distance between the pairs of\n",
    "    # aeroplanes.\n",
    "    df = df.loc[:, ['flight_no_x', 'flight_no_y', 'distances', 'transmission_rates']]\n",
    "    # eliminate the rows having same source and destination\n",
    "    df = df[df['flight_no_x'] != df['flight_no_y']]\n",
    "\n",
    "    return df"
   ]
  },
  {
   "cell_type": "code",
   "execution_count": 13,
   "metadata": {
    "id": "fKqhOUtOzTj_"
   },
   "outputs": [],
   "source": [
    "def save_optimal_paths(opt_paths, filename):\n",
    "    \"\"\"\n",
    "    save the optimal paths to text file.\n",
    "    \"\"\"\n",
    "    with open(f'{filename}.txt', 'w') as f:\n",
    "        for i in opt_paths:\n",
    "            f.write(\"%s\\n\" % i)"
   ]
  },
  {
   "cell_type": "code",
   "execution_count": 14,
   "metadata": {
    "id": "6x6rwaP5UtZo"
   },
   "outputs": [],
   "source": [
    "def nodes_and_ids(df):\n",
    "    \"\"\"\n",
    "    Create unique numerical IDs for all the flights.\n",
    "    \"\"\"\n",
    "    df = df.copy()\n",
    "\n",
    "    # Get all the unique flight numbers in numpy array form\n",
    "    flights = df.flight_no_x.unique()\n",
    "    # Convert them into separate dataframe\n",
    "    flight_no = pd.DataFrame(flights)\n",
    "\n",
    "    # rename the column  of dataframe from 0 to 'flight_name'\n",
    "    flight_no.rename(columns = {0: 'flight_name'}, inplace = True)\n",
    "\n",
    "    # create ids for all the flight numbers\n",
    "    numerical_ids = list()\n",
    "    for i in range(len(flights)):\n",
    "        numerical_ids.append(i)\n",
    "\n",
    "    # change the name of the column from 0 to 'node'\n",
    "    numerical_ids = pd.DataFrame(numerical_ids).rename(columns = {0: 'node'})\n",
    "\n",
    "    # merge two dataframes - numerical_ids and flight_no\n",
    "    nodes = pd.concat([numerical_ids, flight_no], axis = 1)\n",
    "\n",
    "    return nodes"
   ]
  },
  {
   "cell_type": "code",
   "execution_count": 15,
   "metadata": {
    "id": "jUBmFiqFUyB7"
   },
   "outputs": [],
   "source": [
    "def encode_nodes(df, nodes):\n",
    "    \"\"\"\n",
    "    Encode the flight_no to numerical form using numerical IDs, and add them to the\n",
    "    original dataset.\n",
    "    \"\"\"\n",
    "    paths = df.copy()\n",
    "    paths['node_from'] = 0\n",
    "    paths['node_to'] = 0\n",
    "\n",
    "    # encoding the source planes\n",
    "    for index, row in nodes.iterrows():\n",
    "        paths.loc[paths['flight_no_x'] == row['flight_name'], 'node_from'] = row['node']\n",
    "\n",
    "    # encoding the destination planes\n",
    "    for index, row in nodes.iterrows():\n",
    "        paths.loc[paths['flight_no_y'] == row['flight_name'], 'node_to'] = row['node']\n",
    "\n",
    "    # reset the indices of the dataframes\n",
    "    paths = paths.reset_index(drop=True)\n",
    "    nodes = nodes.reset_index(drop=True)\n",
    "    return paths"
   ]
  },
  {
   "cell_type": "markdown",
   "metadata": {},
   "source": [
    "# Bellman-Ford Algorithm\n",
    "The Bellman-Ford algorithm is a method for finding the shortest path between a starting node and all other nodes in a weighted graph. It can also be used to detect negative cycles in a graph. The algorithm works by iteratively updating the distance estimates of all nodes in the graph, starting with the starting node and proceeding outward. The algorithm is called Bellman-Ford because it combines the concepts of Bellman's principle of optimality, which states that the optimal solution to a problem can be found by breaking it down into smaller subproblems, with Ford's method, which iteratively improves the solution."
   ]
  },
  {
   "cell_type": "code",
   "execution_count": 16,
   "metadata": {
    "id": "BbbxAEHbU2vD"
   },
   "outputs": [],
   "source": [
    "def bellman_ford(nodes, edges, source_index = 0):\n",
    "    \"\"\"\n",
    "    This is a Bellman-Ford algorithm.\n",
    "    Here source_index refers to the numerical id of a plane.\n",
    "    source index = 0 means it is first plane, or it is flight number\n",
    "    AA101\n",
    "    \"\"\"\n",
    "    path_lengths = {v: float('inf') for v in nodes}\n",
    "    path_lengths[source_index] = 0\n",
    "\n",
    "    paths = {v: [] for v in nodes}\n",
    "    paths[source_index] = [source_index]\n",
    "\n",
    "    for _ in range(len(nodes) - 1):\n",
    "        for (u, v), w in edges.items():\n",
    "            if path_lengths[u] + w < path_lengths[v]:\n",
    "                path_lengths[v] = path_lengths[u] + w\n",
    "                paths[v] = paths[u] + [v]\n",
    "    \n",
    "    # To check if the graph has any non-negative cycle\n",
    "    for (u, v), w in edges.items():\n",
    "        if path_lengths[u] + w < path_lengths[v]:\n",
    "                path_lengths[v] = path_lengths[u] + w\n",
    "                print(\"Graph has non-negative cycle.\")\n",
    "    return path_lengths, paths"
   ]
  },
  {
   "cell_type": "code",
   "execution_count": 17,
   "metadata": {
    "id": "Fg2H1BMuVQzW"
   },
   "outputs": [],
   "source": [
    "def paths_and_transmission_rates(paths, source_plane = 0):\n",
    "    \"\"\"\n",
    "    Get the optimal path, distance covered to reach the destination, and transmission\n",
    "    rates of the optimal path.\n",
    "\n",
    "    In this function we will call Bellman-Ford algorithm\n",
    "    \"\"\"\n",
    "    # to store the edges and transmission rates\n",
    "    edges = dict()\n",
    "    transmission_rates = list()\n",
    "\n",
    "    # assigning distance to each pair of nodes in tuple form.\n",
    "    for index, row in paths.iterrows():\n",
    "        edges[(row[\"node_from\"], row[\"node_to\"])] = row['distances']\n",
    "\n",
    "    \n",
    "    nodes = list(paths.node_from.unique())\n",
    "\n",
    "    ############################################################################\n",
    "    # Call the Bellman-Ford algorithm and get the total distance\n",
    "    # covered by source to reach each vertex and get the optimal paths to reach\n",
    "    # each vertex\n",
    "    lengths, paths_ = bellman_ford(nodes, edges, source_plane)\n",
    "    ############################################################################\n",
    "\n",
    "    # Get the encoded value of ground station that is at the last vertex\n",
    "    destination_index = list(paths_)[-1]\n",
    "    # get the optimal path that is in the numerical form.\n",
    "    encoded_path = paths_[destination_index]\n",
    "    # get the total distance covered to reach the ground station\n",
    "    distance = lengths[destination_index]\n",
    "    # decode that path so that we can get flight names.\n",
    "    decoded_path = [paths.flight_no_x.unique()[i] for i in encoded_path]\n",
    "    # total number of flights to reach the destination\n",
    "    num_of_flights = len(encoded_path)\n",
    "\n",
    "    # get the transmission values for the optimal path\n",
    "    for i in range(len(decoded_path) - 1):\n",
    "        # get the source records\n",
    "        flight_no_x = paths[paths['flight_no_x'] == f'{decoded_path[i]}']\n",
    "        # get the destination for corresponding source records\n",
    "        flight_no_y = flight_no_x[flight_no_x['flight_no_y'] == f'{decoded_path[i + 1]}']\n",
    "        # we are now left with only one record, and therefore, get the transmission rate for that record\n",
    "        transmission_rates.append(flight_no_y.transmission_rates.values[0])\n",
    "\n",
    "    return decoded_path, transmission_rates, distance, num_of_flights"
   ]
  },
  {
   "cell_type": "code",
   "execution_count": 18,
   "metadata": {
    "id": "BusKxu6uVXcK"
   },
   "outputs": [],
   "source": [
    "def perform_bellman_ford(paths):\n",
    "    \"\"\"\n",
    "    This function will call paths_and_transmission_rates() function for each\n",
    "    aeroplane. paths_and_transmission_rates() function contains the call to\n",
    "    Bellman-Ford algorithm.\n",
    "    \"\"\"\n",
    "\n",
    "    # Get all the flight ids excluding GS1 as it is not a source.\n",
    "    flights_ids = paths[paths['flight_no_x'] != 'LHR'].node_from.unique()\n",
    "    # list of all the optimal paths from source to destination\n",
    "    optimal_path_from_source_to_destination = []\n",
    "    # list of distances covered by each source to route a message to ground\n",
    "    # station\n",
    "    flights_distances = []\n",
    "    num_of_planes = []\n",
    "    for i in flights_ids:\n",
    "        # get the optimal decoded path, that is, the flight numbers.\n",
    "        # get the optimal transmission rates, distances\n",
    "        # get the total number of planes.\n",
    "        decoded_path, transmission_rates, distances, num_of_plane = paths_and_transmission_rates(paths, i)\n",
    "        flights_distances.append(distances)\n",
    "        num_of_planes.append(num_of_plane)\n",
    "        optimal_paths = []\n",
    "\n",
    "        # store the optimal paths and optimal transmission rates in a list. This excludes the source plane.\n",
    "        for i, j in zip(decoded_path[1:], transmission_rates[:]):\n",
    "            optimal_paths.append((i, j))\n",
    "\n",
    "        # store the optimal paths for all the aeroplanes. This includes the source plane.\n",
    "        optimal_path_from_source_to_destination.append([decoded_path[0], {'routing_path': optimal_paths}, {'End-to-end data rate': min(transmission_rates)}])\n",
    "    return optimal_path_from_source_to_destination, flights_distances, num_of_planes"
   ]
  },
  {
   "cell_type": "code",
   "execution_count": 19,
   "metadata": {
    "id": "5KGVxBvSXT4O"
   },
   "outputs": [],
   "source": [
    "def visualize_optimal_transmission_rates(opt_paths):\n",
    "    \"\"\"\n",
    "    visualize the optimal transmission rates and mean optimal transmission rate.\n",
    "    \"\"\"\n",
    "    # to store all the transmission rates\n",
    "    rates = []\n",
    "    # from all the optimal paths\n",
    "    for i in opt_paths:\n",
    "        try:\n",
    "            # extract the numerical values representing transmission rates.\n",
    "            rate = re.findall(r'\\d\\d', str(i[1: 3]))\n",
    "            # convert those numerical value to float datatype\n",
    "            rate = [float(k) for k in rate]\n",
    "            # measure the average optimal transmission rates\n",
    "            rates.append(sum(rate)/len(rate))\n",
    "        except:\n",
    "            rates.append(0)\n",
    "\n",
    "    plt.boxplot(rates);\n",
    "    plt.title(\"Average Transmission Rates\")\n",
    "    plt.ylabel('Transmission Rates')\n",
    "    \n",
    "    plt.show()"
   ]
  },
  {
   "cell_type": "code",
   "execution_count": 20,
   "metadata": {
    "id": "Ei28B0lqKZc5"
   },
   "outputs": [],
   "source": [
    "def visualize_distances_and_average_rates(opt_paths, distances):\n",
    "    \"\"\"\n",
    "    Visualise the distance covered by the planes and average rates.\n",
    "    \"\"\"\n",
    "    rates = []\n",
    "    for i in opt_paths:\n",
    "        try:\n",
    "            rate = re.findall(r'\\d\\d', str(i[1: 3]))\n",
    "            rate = [float(k) for k in rate]\n",
    "            rates.append(sum(rate)/len(rate))\n",
    "        except:\n",
    "            rates.append(0)\n",
    "\n",
    "    plt.scatter(distances, rates)\n",
    "    plt.title(\"Distances and Average Rates\")\n",
    "    plt.xlabel('Routing Distances')\n",
    "    plt.ylabel('Transmission Rates')\n",
    "    \n",
    "    plt.show()"
   ]
  },
  {
   "cell_type": "code",
   "execution_count": 21,
   "metadata": {
    "id": "5wo9d4dbJ9Dy"
   },
   "outputs": [],
   "source": [
    "def visualize_number_of_planes(num_of_planes):\n",
    "    \"\"\"\n",
    "    Visualize the number of planes.\n",
    "    \"\"\"\n",
    "    plt.figure(figsize=(10,7))\n",
    "    ax = sns.countplot(x = num_of_planes)\n",
    "    for i in ax.patches:\n",
    "        ax.annotate(f'\\n{i.get_height()}', (i.get_x()+0.4, i.get_height()), ha='center', va='top', color='white', size=10)\n",
    "    plt.xlabel('Number of planes including source and destination');"
   ]
  },
  {
   "cell_type": "markdown",
   "metadata": {
    "id": "H2C6mv9eJUK4"
   },
   "source": [
    "# **Single-Objective Optimization**\n",
    "\n",
    "The objective of single-objective optimization is to get the maximum end-to-end transmission rates. To do that we will use a shortest distance algorithm called Bellman-Ford algorithm. We have implemented it from scratch. As we know, if the transmission rates are higher then the distance between nodes (aeroplanes) will be shorter, and therefore, we will use the shortest path algorithm to get the shortest optimal path and through that path, we will calculate the transmission rate for each pair of nodes until we reach the ground station."
   ]
  },
  {
   "cell_type": "code",
   "execution_count": 22,
   "metadata": {
    "colab": {
     "base_uri": "https://localhost:8080/"
    },
    "id": "W6Z8HiOcMStk",
    "outputId": "d5aeacce-412c-4b08-c6df-86fc7a3b3d60"
   },
   "outputs": [
    {
     "name": "stdout",
     "output_type": "stream",
     "text": [
      "  flight_no_x flight_no_y   distances  transmission_rates\n",
      "1       AA101        AA25  316.794734              52.857\n",
      "2       AA101       AA291  502.096444              31.895\n",
      "3       AA101        AA45  490.788961              43.505\n",
      "4       AA101       AA717  196.703062              63.970\n",
      "5       AA101       AA723  528.108344              31.895\n"
     ]
    }
   ],
   "source": [
    "# get distances and transmission\n",
    "df = distancesAndTransmissionRates(df_temp)\n",
    "print(df.head())"
   ]
  },
  {
   "cell_type": "code",
   "execution_count": 23,
   "metadata": {
    "id": "ZdPous4V23Tp"
   },
   "outputs": [],
   "source": [
    "nodes = nodes_and_ids(df)\n",
    "paths = encode_nodes(df, nodes)"
   ]
  },
  {
   "cell_type": "code",
   "execution_count": 24,
   "metadata": {
    "colab": {
     "base_uri": "https://localhost:8080/"
    },
    "id": "UBY4bu3e-yyl",
    "outputId": "8ab4c790-76a2-4a93-8917-521f5b511d2d"
   },
   "outputs": [
    {
     "name": "stdout",
     "output_type": "stream",
     "text": [
      "   node flight_name\n",
      "0     0       AA101\n",
      "1     1       AA109\n",
      "2     2       AA111\n",
      "3     3       AA113\n",
      "4     4       AA151\n"
     ]
    }
   ],
   "source": [
    "print(nodes.head())"
   ]
  },
  {
   "cell_type": "code",
   "execution_count": 25,
   "metadata": {
    "colab": {
     "base_uri": "https://localhost:8080/"
    },
    "id": "GrhR1asAXsw9",
    "outputId": "87f7b6c4-d302-4871-8005-dbaa9d0c4728"
   },
   "outputs": [
    {
     "name": "stdout",
     "output_type": "stream",
     "text": [
      "CPU times: total: 1min 46s\n",
      "Wall time: 1min 46s\n"
     ]
    }
   ],
   "source": [
    "%%time\n",
    "# get the optimal paths, total distance covered, and number of planes to reach the destination\n",
    "optimal_paths_0 , distance_covered_0, num_of_planes_0 = perform_bellman_ford(paths)\n",
    "save_optimal_paths(optimal_paths_0, 'single_objective_optimization')"
   ]
  },
  {
   "cell_type": "code",
   "execution_count": 26,
   "metadata": {
    "colab": {
     "base_uri": "https://localhost:8080/",
     "height": 295
    },
    "id": "PVWrZVpfXF_f",
    "outputId": "4a3d5123-4450-4734-c7f2-52d2ed244068"
   },
   "outputs": [
    {
     "data": {
      "image/png": "[encoded data removed]",
      "text/plain": [
       "<Figure size 432x288 with 1 Axes>"
      ]
     },
     "metadata": {
      "needs_background": "light"
     },
     "output_type": "display_data"
    }
   ],
   "source": [
    "visualize_distances_and_average_rates(optimal_paths_0, distance_covered_0)"
   ]
  },
  {
   "cell_type": "code",
   "execution_count": 27,
   "metadata": {
    "colab": {
     "base_uri": "https://localhost:8080/",
     "height": 442
    },
    "id": "CqpxZqmNwzj6",
    "outputId": "d164f79c-dd7a-4bf4-bece-87f2600b5e07"
   },
   "outputs": [
    {
     "data": {
      "image/png": "[encoded data removed]",
      "text/plain": [
       "<Figure size 720x504 with 1 Axes>"
      ]
     },
     "metadata": {
      "needs_background": "light"
     },
     "output_type": "display_data"
    }
   ],
   "source": [
    "# x-axis is the number of planes involved to route the message to the ground station.\n",
    "# y-axis represents the paths\n",
    "# There are 22 paths having direct connection to the ground station, and that is why number of planes are 2, that is, source and destination.\n",
    "# 14 paths having one plane as routing path to reach the ground station, and that is why, number of planes are 3.\n",
    "\n",
    "visualize_number_of_planes(num_of_planes_0)"
   ]
  },
  {
   "cell_type": "code",
   "execution_count": 28,
   "metadata": {
    "colab": {
     "base_uri": "https://localhost:8080/",
     "height": 281
    },
    "id": "n3QsdDGfk7x2",
    "outputId": "96151921-5537-4913-d260-d7d9a588bccd"
   },
   "outputs": [
    {
     "data": {
      "image/png": "[encoded data removed]",
      "text/plain": [
       "<Figure size 432x288 with 1 Axes>"
      ]
     },
     "metadata": {
      "needs_background": "light"
     },
     "output_type": "display_data"
    }
   ],
   "source": [
    "# This is a box plot, and red color shows mean value of all the values\n",
    "visualize_optimal_transmission_rates(optimal_paths_0)"
   ]
  },
  {
   "cell_type": "markdown",
   "metadata": {
    "id": "prsOi1Q2Jdas"
   },
   "source": [
    "# **Multiple-Objective Optimization**\n",
    "Multiple-Objective Optimization asks to maximize the end-to-end transmission rates and minimize the end-to-end latency rates. Latency rate will be decreased if the aeroplanes makes less connection with each other to route the message to the ground station. It also depends upon the distance because if two planes are at long distance, the latency rate will be increased. In Single-Objective Optimization, we have seen that some optimal paths are having 31.895 Mbps as transmission rates. To overcome this, we will decrease the distance from 500 KM switching threshold to 400 KM switching threshold. By doing that, the lowest threshold value will be 43.505 Mbps, and as the distance is reduced, the latency rate may reduce."
   ]
  },
  {
   "cell_type": "code",
   "execution_count": 29,
   "metadata": {
    "id": "cp2314AIzLzP"
   },
   "outputs": [],
   "source": [
    "def remove_unwanted_data(df):\n",
    "    \"\"\"\n",
    "    Remove unwanted data, that is, all the records having distance more than\n",
    "    and equal to 500.\n",
    "    \"\"\"\n",
    "    df = df.copy()\n",
    "    distance = cartesian_coordinates(df)\n",
    "    df = pd.concat((df, pd.DataFrame(distance).rename(columns = {0: 'distances'})), axis = 1)\n",
    "    df = df[df['distances'] < 500]\n",
    "    df.reset_index(drop=True, inplace=True)\n",
    "    return df"
   ]
  },
  {
   "cell_type": "code",
   "execution_count": 30,
   "metadata": {
    "colab": {
     "base_uri": "https://localhost:8080/"
    },
    "id": "_yy1aWr390UM",
    "outputId": "a8bd9ee0-b082-461e-846c-ad05038d9e08"
   },
   "outputs": [
    {
     "name": "stdout",
     "output_type": "stream",
     "text": [
      "  flight_no_x flight_no_y   distances  transmission_rates\n",
      "1       AA101        AA25  316.794734              52.857\n",
      "2       AA101        AA45  490.788961              43.505\n",
      "3       AA101       AA717  196.703062              63.970\n",
      "4       AA101       BA175  464.631848              43.505\n",
      "5       AA101       BA185  346.889472              52.857\n"
     ]
    }
   ],
   "source": [
    "# get distances and transmission\n",
    "df = distancesAndTransmissionRates(df_temp)\n",
    "print(df.head())"
   ]
  },
  {
   "cell_type": "code",
   "execution_count": 31,
   "metadata": {
    "id": "eEjGMODX90UT"
   },
   "outputs": [],
   "source": [
    "nodes_1 = nodes_and_ids(df)\n",
    "paths_1 = encode_nodes(df, nodes_1)"
   ]
  },
  {
   "cell_type": "code",
   "execution_count": 32,
   "metadata": {
    "colab": {
     "base_uri": "https://localhost:8080/"
    },
    "id": "1kmUTifRfhn0",
    "outputId": "2af198bb-3866-41c6-f235-c0a6c411a80a"
   },
   "outputs": [
    {
     "name": "stdout",
     "output_type": "stream",
     "text": [
      "CPU times: total: 1min 26s\n",
      "Wall time: 1min 26s\n"
     ]
    }
   ],
   "source": [
    "%%time\n",
    "# get the optimal paths, total distance covered, and number of planes to reach the destination\n",
    "optimal_paths_1, distance_covered_1, num_of_planes_1 = perform_bellman_ford(paths_1)\n",
    "save_optimal_paths(optimal_paths_1, 'multiple_objective_optimization')"
   ]
  },
  {
   "cell_type": "code",
   "execution_count": 33,
   "metadata": {
    "colab": {
     "base_uri": "https://localhost:8080/",
     "height": 295
    },
    "id": "W7MFYyCAXeKO",
    "outputId": "0607bdef-0b18-4739-81a5-769bae6f225f"
   },
   "outputs": [
    {
     "data": {
      "image/png": "[encoded data removed]",
      "text/plain": [
       "<Figure size 432x288 with 1 Axes>"
      ]
     },
     "metadata": {
      "needs_background": "light"
     },
     "output_type": "display_data"
    }
   ],
   "source": [
    "visualize_distances_and_average_rates(optimal_paths_1, distance_covered_1)"
   ]
  },
  {
   "cell_type": "code",
   "execution_count": 34,
   "metadata": {
    "colab": {
     "base_uri": "https://localhost:8080/",
     "height": 443
    },
    "id": "yGAIYxsoxy9B",
    "outputId": "16b895a1-2b87-47b2-a997-2426fa2fd0d0"
   },
   "outputs": [
    {
     "data": {
      "image/png": "[encoded data removed]",
      "text/plain": [
       "<Figure size 720x504 with 1 Axes>"
      ]
     },
     "metadata": {
      "needs_background": "light"
     },
     "output_type": "display_data"
    }
   ],
   "source": [
    "visualize_number_of_planes(num_of_planes_1)"
   ]
  },
  {
   "cell_type": "code",
   "execution_count": 35,
   "metadata": {
    "colab": {
     "base_uri": "https://localhost:8080/",
     "height": 281
    },
    "id": "3lPMj7h1lgqJ",
    "outputId": "7b89df13-010c-4453-9b46-99a15c418a4a"
   },
   "outputs": [
    {
     "data": {
      "image/png": "[encoded data removed]",
      "text/plain": [
       "<Figure size 432x288 with 1 Axes>"
      ]
     },
     "metadata": {
      "needs_background": "light"
     },
     "output_type": "display_data"
    }
   ],
   "source": [
    "# This is a box plot, and red color shows mean value of all the values\n",
    "visualize_optimal_transmission_rates(optimal_paths_1)"
   ]
  },
  {
   "cell_type": "markdown",
   "metadata": {
    "id": "oh7nJXIrMXgU"
   },
   "source": [
    "# **Experiments and Discussion**\n",
    "\n",
    "| Optimization      | Switching Threshod Range |\n",
    "| ----------------- | ------------------------ |\n",
    "| Single-Objective  | 500 KM                   |\n",
    "| Multiple-Objective| 400 KM                   |\n",
    "\n",
    "| Optimization      | Planes with direct connection with ground station |\n",
    "| ----------------- | ------------------------------------------------- |\n",
    "| Single-Objective  | 22                                                |\n",
    "| Multiple-Objective| 14                                                |\n",
    "\n",
    "| Optimization      | Most number of aeroplanes used to route a message to ground station |\n",
    "| ----------------- | ------------------------------------------------- |\n",
    "| Single-Objective  | 14                                                |\n",
    "| Multiple-Objective| 16                                                |\n",
    "\n",
    "| Optimization      | Average Optimal Transmission rate |\n",
    "| ----------------- | ----------------------------------|\n",
    "| Single-Objective  | approx 55 Mbps                    |\n",
    "| Multiple-Objective| approx 55 Mbps                    |"
   ]
  },
  {
   "cell_type": "markdown",
   "metadata": {
    "id": "aZHqBWH2O08i"
   },
   "source": [
    "# **Conclusion**\n",
    "\n",
    "In single-objective optimization, we are getting better result than multiple-objective optimization method, and this is because it has more options or paths to search for the optimal result. It uses less connectivity between planes than multiple-objective optimization method.\n",
    "\n",
    "In multiple-objective optimization, we have decrease the switching threshold to 400 in order to check if it increases the transmission rate, but the average optimal transmission rate was same for both the cases. Maximum number of planes to route a message to ground station increased to 16."
   ]
  },
  {
   "cell_type": "markdown",
   "metadata": {},
   "source": [
    "# **Future Work**\n",
    "Finding optimal route has a very rich utilization in many areas, and there are many algorithms that are formulated to get the optimal results in less time.\n"
   ]
  },
  {
   "cell_type": "markdown",
   "metadata": {
    "id": "j5246c3IPB5D"
   },
   "source": [
    "# **References**\n",
    "\n",
    "Husheng Li, Chapter 2 - Basics of communications, Communications for Control in Cyber Physical Systems, Morgan Kaufmann, 2016, Page 9-30\n",
    "\n",
    "Jean Walrand, Pravin Varaiya, CHAPTER 8 - Control of Networks, High-Performance Communication Networks (Second Edition), Morgan Kaufmann, 2000, Page 363-429\n",
    "\n",
    "Wikipedia Contributors (2019). Bellman–Ford algorithm. [online] Wikipedia. Available at: https://en.wikipedia.org/wiki/Bellman%E2%80%93Ford_algorithm.\n",
    "\n",
    "W3Schools (n.d.). Introduction to NumPy. [online] www.w3schools.com. Available at: https://www.w3schools.com/python/numpy/numpy_intro.asp.\n",
    "\n",
    "www.w3schools.com. (n.d.). Pandas Introduction. [online] Available at: https://www.w3schools.com/python/pandas/pandas_intro.asp#:~:text=What%20is%20Pandas%3F.\n",
    "\n",
    "matplotlib.org. (n.d.). Pyplot tutorial — Matplotlib 3.4.2 documentation. [online] Available at: https://matplotlib.org/stable/tutorials/introductory/pyplot.html.\n",
    "\n",
    "Python.org. (2019). Regular Expression HOWTO — Python 3.8.0 documentation. [online] Available at: https://docs.python.org/3/howto/regex.html.\n",
    "\n",
    "seaborn.pydata.org. (n.d.). An introduction to seaborn — seaborn 0.12.0 documentation. [online] Available at: https://seaborn.pydata.org/tutorial/introduction.\n"
   ]
  }
 ],
 "metadata": {
  "colab": {
   "collapsed_sections": [
    "oh7nJXIrMXgU",
    "aZHqBWH2O08i",
    "j5246c3IPB5D"
   ],
   "provenance": []
  },
  "kernelspec": {
   "display_name": "Python 3 (ipykernel)",
   "language": "python",
   "name": "python3"
  },
  "language_info": {
   "codemirror_mode": {
    "name": "ipython",
    "version": 3
   },
   "file_extension": ".py",
   "mimetype": "text/x-python",
   "name": "python",
   "nbconvert_exporter": "python",
   "pygments_lexer": "ipython3",
   "version": "3.10.4"
  }
 },
 "nbformat": 4,
 "nbformat_minor": 1
}
